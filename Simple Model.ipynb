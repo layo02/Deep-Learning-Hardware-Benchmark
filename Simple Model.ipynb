{
 "cells": [
  {
   "cell_type": "markdown",
   "id": "f30ede4c",
   "metadata": {},
   "source": [
    "# Table of Contents\n",
    "[I.  Benchmark with General Matrix to Matrix Multiplication (GEMM) Operations](#Test01)\n",
    "\n",
    "[II. Benchmark with Convolution ](#Test02)"
   ]
  },
  {
   "cell_type": "code",
   "execution_count": 1,
   "id": "90d38dec",
   "metadata": {
    "scrolled": false
   },
   "outputs": [],
   "source": [
    "import numpy as np\n",
    "import tensorflow\n",
    "import pandas as pd\n",
    "from tensorflow.keras.utils import to_categorical\n",
    "from tensorflow.keras import mixed_precision\n",
    "from utils import gemm, conv, process_mnist\n",
    "import time"
   ]
  },
  {
   "cell_type": "markdown",
   "id": "4aa4dbd0",
   "metadata": {},
   "source": [
    "# I. Benchmark with General Matrix to Matrix Multiplication (GEMM) operations <a name = 'Test01'></a>"
   ]
  },
  {
   "cell_type": "code",
   "execution_count": 2,
   "id": "8c065203",
   "metadata": {},
   "outputs": [
    {
     "name": "stdout",
     "output_type": "stream",
     "text": [
      "Duration: 1.74 s\n"
     ]
    }
   ],
   "source": [
    "##\n",
    "# Evaluate the total excecution time for Dense Matrix Multiplication:\n",
    "#\n",
    "start = time.time()\n",
    "gemm.dense_matrix_multiplication(3072,128,1024)\n",
    "gemm.dense_matrix_multiplication(5124,9124,2560)\n",
    "gemm.dense_matrix_multiplication(2560,64,2560)\n",
    "gemm.dense_matrix_multiplication(7860,64,2560)\n",
    "gemm.dense_matrix_multiplication(1760,128,1760)\n",
    "end = time.time()\n",
    "duration_dense = end - start\n",
    "print(f\"Duration: {round(duration_dense,2)} s\")"
   ]
  },
  {
   "cell_type": "code",
   "execution_count": 3,
   "id": "dff35e6a",
   "metadata": {},
   "outputs": [
    {
     "name": "stdout",
     "output_type": "stream",
     "text": [
      "Duration: 14.97 s\n"
     ]
    }
   ],
   "source": [
    "##\n",
    "# Evaluate the total excecution time for Sparse Matrix Multiplication:\n",
    "#\n",
    "start = time.time()\n",
    "gemm.sparse_matrix_multiplication(10752,1,3584,0.9)\n",
    "gemm.sparse_matrix_multiplication(7680,1500,2560,0.95)\n",
    "gemm.sparse_matrix_multiplication(7680,2,2560,0.95)\n",
    "gemm.sparse_matrix_multiplication(7680,1,2560,0.95)\n",
    "end = time.time()\n",
    "duration_sparse = end - start\n",
    "print(f\"Duration: {round(duration_sparse,2)} s\")"
   ]
  },
  {
   "cell_type": "markdown",
   "id": "d4e5eff1",
   "metadata": {},
   "source": [
    "# II. Benchmark with Convolution operations <a name = 'Test02'></a>"
   ]
  },
  {
   "cell_type": "code",
   "execution_count": 4,
   "id": "04452cc1",
   "metadata": {},
   "outputs": [],
   "source": [
    "##\n",
    "# Load the Zalando MNIST dataset:\n",
    "#\n",
    "X_train, y_train = process_mnist.load_mnist('data/fashion', kind = 'train')\n",
    "X_test, y_test = process_mnist.load_mnist('data/fashion', kind = 't10k')\n",
    "\n",
    "\n",
    "##\n",
    "# Convert the input data into RGB image type and resize the resolution to 32x32:\n",
    "#\n",
    "X_train = process_mnist.resize_mnist(X_train, 32, 28)\n",
    "X_train = np.stack((X_train,) * 3, axis = -1)\n",
    "X_test = process_mnist.resize_mnist(X_test, 32, 28)\n",
    "X_test = np.stack((X_test,) * 3, axis = -1)\n",
    "\n",
    "##\n",
    "# One-hot encoding the output labels:\n",
    "#\n",
    "y_train = to_categorical(y_train, num_classes = 10)\n",
    "y_test = to_categorical(y_test, num_classes = 10)"
   ]
  },
  {
   "cell_type": "code",
   "execution_count": 5,
   "id": "347bf666",
   "metadata": {},
   "outputs": [],
   "source": [
    "##\n",
    "# Sanity check for input and output dimensions:\n",
    "#\n",
    "assert X_train.shape == (60000,32,32,3), \"X_train should have a dimension of (60000,32,32,3)!\"\n",
    "assert X_test.shape == (10000,32,32,3), \"X_test should have a dimension of (10000,32,32,3)!\"\n",
    "assert y_train.shape == (60000,10), \"y_train should have a dimension of (60000,10)\"\n",
    "assert y_test.shape == (10000,10), \"y_test should have a dimension of (10000,10)\""
   ]
  },
  {
   "cell_type": "code",
   "execution_count": 6,
   "id": "7119be34",
   "metadata": {},
   "outputs": [],
   "source": [
    "##\n",
    "# Set up the precision target:\n",
    "#\n",
    "policy = tensorflow.keras.mixed_precision.experimental.Policy('mixed_float16')\n",
    "tensorflow.keras.mixed_precision.experimental.set_policy(policy)"
   ]
  },
  {
   "cell_type": "code",
   "execution_count": 7,
   "id": "d8c10f1e",
   "metadata": {},
   "outputs": [
    {
     "name": "stdout",
     "output_type": "stream",
     "text": [
      "Train on 60000 samples, validate on 10000 samples\n",
      "Epoch 1/10\n",
      "60000/60000 [==============================] - 23s 389us/sample - loss: 0.6865 - accuracy: 0.7520 - Precision: 0.8147 - Recall: 0.6868 - val_loss: 0.6211 - val_accuracy: 0.7751 - val_Precision: 0.8458 - val_Recall: 0.6957\n",
      "Epoch 2/10\n",
      "60000/60000 [==============================] - 21s 356us/sample - loss: 0.5917 - accuracy: 0.7904 - Precision: 0.8391 - Recall: 0.7375 - val_loss: 0.5709 - val_accuracy: 0.7987 - val_Precision: 0.8452 - val_Recall: 0.7510\n",
      "Epoch 3/10\n",
      "60000/60000 [==============================] - 21s 357us/sample - loss: 0.5651 - accuracy: 0.8011 - Precision: 0.8470 - Recall: 0.7500 - val_loss: 0.5764 - val_accuracy: 0.8002 - val_Precision: 0.8558 - val_Recall: 0.7344\n",
      "Epoch 4/10\n",
      "60000/60000 [==============================] - 22s 359us/sample - loss: 0.5551 - accuracy: 0.8045 - Precision: 0.8484 - Recall: 0.7551 - val_loss: 0.5641 - val_accuracy: 0.8028 - val_Precision: 0.8505 - val_Recall: 0.7603\n",
      "Epoch 5/10\n",
      "60000/60000 [==============================] - 22s 359us/sample - loss: 0.5474 - accuracy: 0.8051 - Precision: 0.8493 - Recall: 0.7591 - val_loss: 0.5737 - val_accuracy: 0.7970 - val_Precision: 0.8461 - val_Recall: 0.7518\n",
      "Epoch 6/10\n",
      "60000/60000 [==============================] - 22s 359us/sample - loss: 0.5411 - accuracy: 0.8097 - Precision: 0.8524 - Recall: 0.7626 - val_loss: 0.5443 - val_accuracy: 0.8088 - val_Precision: 0.8540 - val_Recall: 0.7595\n",
      "Epoch 7/10\n",
      "60000/60000 [==============================] - 22s 359us/sample - loss: 0.5343 - accuracy: 0.8133 - Precision: 0.8546 - Recall: 0.7681 - val_loss: 0.5727 - val_accuracy: 0.8046 - val_Precision: 0.8426 - val_Recall: 0.7651\n",
      "Epoch 8/10\n",
      "60000/60000 [==============================] - 22s 360us/sample - loss: 0.5292 - accuracy: 0.8131 - Precision: 0.8554 - Recall: 0.7693 - val_loss: 0.5358 - val_accuracy: 0.8091 - val_Precision: 0.8490 - val_Recall: 0.7642\n",
      "Epoch 9/10\n",
      "60000/60000 [==============================] - 22s 360us/sample - loss: 0.5224 - accuracy: 0.8148 - Precision: 0.8565 - Recall: 0.7712 - val_loss: 0.5297 - val_accuracy: 0.8164 - val_Precision: 0.8557 - val_Recall: 0.7789\n",
      "Epoch 10/10\n",
      "60000/60000 [==============================] - 22s 361us/sample - loss: 0.5205 - accuracy: 0.8173 - Precision: 0.8568 - Recall: 0.7735 - val_loss: 0.5470 - val_accuracy: 0.8032 - val_Precision: 0.8485 - val_Recall: 0.7554\n",
      "Duration: 217.42 s\n"
     ]
    }
   ],
   "source": [
    "##\n",
    "# Evaluate the total excecution time for convolution network:\n",
    "#\n",
    "\n",
    "start = time.time()\n",
    "model = conv.model()\n",
    "model.fit(X_train, y_train, epochs = 10, verbose = 1,\n",
    "                         shuffle = True, validation_data = (X_test, y_test))\n",
    "end = time.time()\n",
    "duration_conv = end - start\n",
    "print(f\"Duration: {round(duration_conv,2)} s\")\n"
   ]
  },
  {
   "cell_type": "code",
   "execution_count": 10,
   "id": "df28c576",
   "metadata": {},
   "outputs": [
    {
     "ename": "ModuleNotFoundError",
     "evalue": "No module named 'openpyxl'",
     "output_type": "error",
     "traceback": [
      "\u001b[1;31m---------------------------------------------------------------------------\u001b[0m",
      "\u001b[1;31mModuleNotFoundError\u001b[0m                       Traceback (most recent call last)",
      "\u001b[1;32m<ipython-input-10-23e8a3d6e8bf>\u001b[0m in \u001b[0;36m<module>\u001b[1;34m\u001b[0m\n\u001b[0;32m      5\u001b[0m           'Duration': [duration_dense, duration_sparse, duration_conv]}\n\u001b[0;32m      6\u001b[0m \u001b[0mdata_frame\u001b[0m \u001b[1;33m=\u001b[0m \u001b[0mpd\u001b[0m\u001b[1;33m.\u001b[0m\u001b[0mDataFrame\u001b[0m\u001b[1;33m(\u001b[0m\u001b[0mresults\u001b[0m\u001b[1;33m,\u001b[0m \u001b[0mcolumns\u001b[0m \u001b[1;33m=\u001b[0m \u001b[1;33m[\u001b[0m\u001b[1;34m'Test'\u001b[0m\u001b[1;33m,\u001b[0m \u001b[1;34m'Duration'\u001b[0m\u001b[1;33m]\u001b[0m\u001b[1;33m)\u001b[0m\u001b[1;33m\u001b[0m\u001b[1;33m\u001b[0m\u001b[0m\n\u001b[1;32m----> 7\u001b[1;33m \u001b[0mdata_frame\u001b[0m\u001b[1;33m.\u001b[0m\u001b[0mto_excel\u001b[0m\u001b[1;33m(\u001b[0m\u001b[1;34m'results/simple.xlsx'\u001b[0m\u001b[1;33m,\u001b[0m \u001b[0mindex\u001b[0m \u001b[1;33m=\u001b[0m \u001b[1;32mFalse\u001b[0m\u001b[1;33m,\u001b[0m \u001b[0mheader\u001b[0m \u001b[1;33m=\u001b[0m \u001b[1;32mTrue\u001b[0m\u001b[1;33m)\u001b[0m\u001b[1;33m\u001b[0m\u001b[1;33m\u001b[0m\u001b[0m\n\u001b[0m",
      "\u001b[1;32m~\\anaconda3\\envs\\tensorflow\\lib\\site-packages\\pandas\\core\\generic.py\u001b[0m in \u001b[0;36mto_excel\u001b[1;34m(self, excel_writer, sheet_name, na_rep, float_format, columns, header, index, index_label, startrow, startcol, engine, merge_cells, encoding, inf_rep, verbose, freeze_panes, storage_options)\u001b[0m\n\u001b[0;32m   2194\u001b[0m             \u001b[0mfreeze_panes\u001b[0m\u001b[1;33m=\u001b[0m\u001b[0mfreeze_panes\u001b[0m\u001b[1;33m,\u001b[0m\u001b[1;33m\u001b[0m\u001b[1;33m\u001b[0m\u001b[0m\n\u001b[0;32m   2195\u001b[0m             \u001b[0mengine\u001b[0m\u001b[1;33m=\u001b[0m\u001b[0mengine\u001b[0m\u001b[1;33m,\u001b[0m\u001b[1;33m\u001b[0m\u001b[1;33m\u001b[0m\u001b[0m\n\u001b[1;32m-> 2196\u001b[1;33m             \u001b[0mstorage_options\u001b[0m\u001b[1;33m=\u001b[0m\u001b[0mstorage_options\u001b[0m\u001b[1;33m,\u001b[0m\u001b[1;33m\u001b[0m\u001b[1;33m\u001b[0m\u001b[0m\n\u001b[0m\u001b[0;32m   2197\u001b[0m         )\n\u001b[0;32m   2198\u001b[0m \u001b[1;33m\u001b[0m\u001b[0m\n",
      "\u001b[1;32m~\\anaconda3\\envs\\tensorflow\\lib\\site-packages\\pandas\\io\\formats\\excel.py\u001b[0m in \u001b[0;36mwrite\u001b[1;34m(self, writer, sheet_name, startrow, startcol, freeze_panes, engine, storage_options)\u001b[0m\n\u001b[0;32m    814\u001b[0m             \u001b[1;31m# 'save', 'supported_extensions' and 'write_cells'  [abstract]\u001b[0m\u001b[1;33m\u001b[0m\u001b[1;33m\u001b[0m\u001b[1;33m\u001b[0m\u001b[0m\n\u001b[0;32m    815\u001b[0m             writer = ExcelWriter(  # type: ignore[abstract]\n\u001b[1;32m--> 816\u001b[1;33m                 \u001b[0mwriter\u001b[0m\u001b[1;33m,\u001b[0m \u001b[0mengine\u001b[0m\u001b[1;33m=\u001b[0m\u001b[0mengine\u001b[0m\u001b[1;33m,\u001b[0m \u001b[0mstorage_options\u001b[0m\u001b[1;33m=\u001b[0m\u001b[0mstorage_options\u001b[0m\u001b[1;33m\u001b[0m\u001b[1;33m\u001b[0m\u001b[0m\n\u001b[0m\u001b[0;32m    817\u001b[0m             )\n\u001b[0;32m    818\u001b[0m             \u001b[0mneed_save\u001b[0m \u001b[1;33m=\u001b[0m \u001b[1;32mTrue\u001b[0m\u001b[1;33m\u001b[0m\u001b[1;33m\u001b[0m\u001b[0m\n",
      "\u001b[1;32m~\\anaconda3\\envs\\tensorflow\\lib\\site-packages\\pandas\\io\\excel\\_openpyxl.py\u001b[0m in \u001b[0;36m__init__\u001b[1;34m(self, path, engine, mode, storage_options, **engine_kwargs)\u001b[0m\n\u001b[0;32m     28\u001b[0m     ):\n\u001b[0;32m     29\u001b[0m         \u001b[1;31m# Use the openpyxl module as the Excel writer.\u001b[0m\u001b[1;33m\u001b[0m\u001b[1;33m\u001b[0m\u001b[1;33m\u001b[0m\u001b[0m\n\u001b[1;32m---> 30\u001b[1;33m         \u001b[1;32mfrom\u001b[0m \u001b[0mopenpyxl\u001b[0m\u001b[1;33m.\u001b[0m\u001b[0mworkbook\u001b[0m \u001b[1;32mimport\u001b[0m \u001b[0mWorkbook\u001b[0m\u001b[1;33m\u001b[0m\u001b[1;33m\u001b[0m\u001b[0m\n\u001b[0m\u001b[0;32m     31\u001b[0m \u001b[1;33m\u001b[0m\u001b[0m\n\u001b[0;32m     32\u001b[0m         super().__init__(\n",
      "\u001b[1;31mModuleNotFoundError\u001b[0m: No module named 'openpyxl'"
     ]
    }
   ],
   "source": [
    "##\n",
    "# Saving the results to Excel file:\n",
    "#\n",
    "results = {'Test': ['Dense Matrix Multiplication', 'Sparse Matrix Multiplication', 'Convolution'],\n",
    "          'Duration': [duration_dense, duration_sparse, duration_conv]}\n",
    "data_frame = pd.DataFrame(results, columns = ['Test', 'Duration'])\n",
    "data_frame.to_excel('results/simple.xlsx', index = False, header = True)"
   ]
  },
  {
   "cell_type": "code",
   "execution_count": null,
   "id": "34eaaf61",
   "metadata": {},
   "outputs": [],
   "source": []
  }
 ],
 "metadata": {
  "kernelspec": {
   "display_name": "Python [conda env:tensorflow] *",
   "language": "python",
   "name": "conda-env-tensorflow-py"
  },
  "language_info": {
   "codemirror_mode": {
    "name": "ipython",
    "version": 3
   },
   "file_extension": ".py",
   "mimetype": "text/x-python",
   "name": "python",
   "nbconvert_exporter": "python",
   "pygments_lexer": "ipython3",
   "version": "3.7.10"
  }
 },
 "nbformat": 4,
 "nbformat_minor": 5
}
