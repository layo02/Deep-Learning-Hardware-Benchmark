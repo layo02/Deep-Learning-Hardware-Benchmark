{
 "cells": [
  {
   "cell_type": "markdown",
   "id": "f30ede4c",
   "metadata": {
    "deletable": false,
    "editable": false
   },
   "source": [
    "# Table of Contents\n",
    "[I. Benchmark with General Matrix to Matrix Multiplication (GEMM) Operations](#Test01)\n",
    "\n",
    "[II. Benchmark with Convolution](#Test02)\n"
   ]
  },
  {
   "cell_type": "code",
   "execution_count": null,
   "id": "90d38dec",
   "metadata": {
    "deletable": false,
    "editable": false,
    "scrolled": false
   },
   "outputs": [],
   "source": [
    "##\n",
    "# Import important libraries:\n",
    "#\n",
    "import numpy as np\n",
    "import tensorflow\n",
    "import pandas as pd\n",
    "from tensorflow.keras.utils import to_categorical\n",
    "from tensorflow.keras import mixed_precision\n",
    "from tensorflow.keras.datasets import imdb\n",
    "from tensorflow.keras.preprocessing.sequence import pad_sequences\n",
    "from utils import gemm, convolution, process_mnist, profiler\n",
    "import time"
   ]
  },
  {
   "cell_type": "code",
   "execution_count": null,
   "id": "26471d73",
   "metadata": {
    "deletable": false,
    "editable": false
   },
   "outputs": [],
   "source": [
    "##\n",
    "# Recheck to see if GPU will be available:\n",
    "#\n",
    "device_name = tensorflow.test.gpu_device_name()\n",
    "if not device_name:\n",
    "  raise SystemError('GPU device not found')\n",
    "print('Found GPU at: {}'.format(device_name))"
   ]
  },
  {
   "cell_type": "markdown",
   "id": "4aa4dbd0",
   "metadata": {
    "deletable": false,
    "editable": false,
    "scrolled": false
   },
   "source": [
    "# I. Benchmark with General Matrix to Matrix Multiplication (GEMM) operations <a name = 'Test01'></a>"
   ]
  },
  {
   "cell_type": "code",
   "execution_count": null,
   "id": "8c065203",
   "metadata": {
    "deletable": false,
    "editable": false
   },
   "outputs": [],
   "source": [
    "##\n",
    "# Evaluate the total excecution time for Dense Matrix Multiplication:\n",
    "#\n",
    "start = time.time()\n",
    "gemm.dense_matrix_multiplication(3072,128,1024)\n",
    "gemm.dense_matrix_multiplication(5124,9124,2560)\n",
    "gemm.dense_matrix_multiplication(2560,64,2560)\n",
    "gemm.dense_matrix_multiplication(7860,64,2560)\n",
    "gemm.dense_matrix_multiplication(1760,128,1760)\n",
    "end = time.time()\n",
    "duration_dense = end - start\n",
    "\n",
    "##\n",
    "# Test for Dense Matrix Multiplication:\n",
    "#\n",
    "if not duration_dense:\n",
    "    raise SystemError('Error when executing this cell block.')"
   ]
  },
  {
   "cell_type": "code",
   "execution_count": null,
   "id": "dff35e6a",
   "metadata": {
    "deletable": false,
    "editable": false
   },
   "outputs": [],
   "source": [
    "##\n",
    "# Evaluate the total excecution time for Sparse Matrix Multiplication:\n",
    "#\n",
    "start = time.time()\n",
    "gemm.sparse_matrix_multiplication(10752,1,3584,0.9)\n",
    "gemm.sparse_matrix_multiplication(7680,1500,2560,0.95)\n",
    "gemm.sparse_matrix_multiplication(7680,2,2560,0.95)\n",
    "gemm.sparse_matrix_multiplication(7680,1,2560,0.95)\n",
    "end = time.time()\n",
    "duration_sparse = end - start\n",
    "\n",
    "##\n",
    "# Test for Sparse Matrix Multiplication:\n",
    "#\n",
    "if not duration_sparse:\n",
    "    raise SystemError('Error when executing this cell block.')"
   ]
  },
  {
   "cell_type": "markdown",
   "id": "d4e5eff1",
   "metadata": {
    "deletable": false,
    "editable": false,
    "scrolled": false
   },
   "source": [
    "# II. Benchmark with Convolution operations <a name = 'Test02'></a>"
   ]
  },
  {
   "cell_type": "code",
   "execution_count": null,
   "id": "04452cc1",
   "metadata": {
    "deletable": false
   },
   "outputs": [],
   "source": [
    "##\n",
    "# Load the Zalando MNIST dataset:\n",
    "#\n",
    "X_train, y_train = process_mnist.load_mnist('data/fashion', kind = 'train')\n",
    "X_test, y_test = process_mnist.load_mnist('data/fashion', kind = 't10k')\n",
    "\n",
    "\n",
    "##\n",
    "# Convert the input data into RGB image type and resize the resolution to 32x32:\n",
    "#\n",
    "X_train = process_mnist.resize_mnist(X_train, 28, 28, 32, 32)\n",
    "X_train = np.stack((X_train,) * 3, axis = -1)\n",
    "X_test = process_mnist.resize_mnist(X_test, 28, 28, 32, 32)\n",
    "X_test = np.stack((X_test,) * 3, axis = -1)\n",
    "\n",
    "##\n",
    "# One-hot encoding the output labels:\n",
    "#\n",
    "y_train = to_categorical(y_train, num_classes = 10)\n",
    "y_test = to_categorical(y_test, num_classes = 10)\n",
    "\n",
    "##\n",
    "# Test for dataset:\n",
    "#\n",
    "if (not np.any(X_train)) or (not np.any(X_test)) or (not np.any(y_train)) or (not np.any(y_test)):\n",
    "    raise SystemError('Error when executing this cell block.')"
   ]
  },
  {
   "cell_type": "code",
   "execution_count": null,
   "id": "347bf666",
   "metadata": {
    "deletable": false,
    "editable": false
   },
   "outputs": [],
   "source": [
    "##\n",
    "# Sanity check for input and output dimensions:\n",
    "#\n",
    "assert X_train.shape == (60000,32,32,3), \"X_train should have a dimension of (60000,32,32,3)!\"\n",
    "assert X_test.shape == (10000,32,32,3), \"X_test should have a dimension of (10000,32,32,3)!\"\n",
    "assert y_train.shape == (60000,10), \"y_train should have a dimension of (60000,10)\"\n",
    "assert y_test.shape == (10000,10), \"y_test should have a dimension of (10000,10)\""
   ]
  },
  {
   "cell_type": "code",
   "execution_count": null,
   "id": "7119be34",
   "metadata": {
    "deletable": false,
    "editable": false
   },
   "outputs": [],
   "source": [
    "##\n",
    "# Set up the precision target:\n",
    "#\n",
    "policy = tensorflow.keras.mixed_precision.experimental.Policy('mixed_float16')\n",
    "tensorflow.keras.mixed_precision.experimental.set_policy(policy)\n",
    "\n",
    "##\n",
    "# Test for precision target:\n",
    "#\n",
    "if not policy:\n",
    "    raise SystemError('Error when executing this cell block.')"
   ]
  },
  {
   "cell_type": "code",
   "execution_count": null,
   "id": "90527be2",
   "metadata": {
    "deletable": false,
    "editable": false
   },
   "outputs": [],
   "source": [
    "##\n",
    "# Compute the flops of the Conv2D model:\n",
    "#\n",
    "session = tensorflow.compat.v1.Session()\n",
    "graph = tensorflow.compat.v1.get_default_graph()\n",
    "\n",
    "with graph.as_default():\n",
    "    with session.as_default():\n",
    "        model = convolution.convolve2D(X_train.shape[1],X_train.shape[2],X_train.shape[3])\n",
    "        run_meta = tensorflow.compat.v1.RunMetadata()\n",
    "        opts = tensorflow.compat.v1.profiler.ProfileOptionBuilder.float_operation()\n",
    "        flops = tensorflow.compat.v1.profiler.profile(graph=graph,\n",
    "                                                      run_meta=run_meta, cmd = 'op', options=opts)\n",
    "\n",
    "tensorflow.compat.v1.reset_default_graph()\n",
    "\n",
    "##\n",
    "# Compute the memory usage of this model:\n",
    "#\n",
    "batch_size = 64\n",
    "model = convolution.convolve2D(X_train.shape[1],X_train.shape[2],X_train.shape[3])\n",
    "memory_usage = profiler.memory_usage(model,batch_size)\n",
    "\n",
    "##\n",
    "# Compute the memory required to store of this model:\n",
    "#\n",
    "memory_weights = profiler.memory_weights(model)\n",
    "\n",
    "##\n",
    "# Test for model profiler:\n",
    "#\n",
    "if (not flops.total_float_ops) or (not memory_usage) or (not memory_weights):\n",
    "    raise SystemError('Error when executing this cell block.')"
   ]
  },
  {
   "cell_type": "code",
   "execution_count": null,
   "id": "d8c10f1e",
   "metadata": {
    "deletable": false,
    "editable": false
   },
   "outputs": [],
   "source": [
    "##\n",
    "# Evaluate the total excecution time for convolution network:\n",
    "#\n",
    "\n",
    "start = time.time()\n",
    "model = convolution.convolve2D(X_train.shape[1],X_train.shape[2],X_train.shape[3])\n",
    "model.fit(X_train, y_train, epochs = 10, verbose = 1, batch_size = 64,\n",
    "                         shuffle = True, validation_data = (X_test, y_test))\n",
    "end = time.time()\n",
    "duration_conv = end - start\n",
    "\n",
    "##\n",
    "# Test for Convolution Neural Network:\n",
    "#\n",
    "if not duration_conv:\n",
    "    raise SystemError('Error when executing this cell block.')"
   ]
  },
  {
   "cell_type": "code",
   "execution_count": null,
   "id": "2e1db84d",
   "metadata": {
    "deletable": false,
    "editable": false
   },
   "outputs": [],
   "source": [
    "##\n",
    "# Save the results into a .csv file:\n",
    "#\n",
    "results = {'Test': ['DMM','SMM','Convolve2D'],\n",
    "        'Duration (s)': [duration_dense,duration_sparse,duration_conv],\n",
    "        'FLOPS': flops.total_float_ops,\n",
    "        'Memory Usage (Gbytes)': memory_usage,\n",
    "        'Memory for Weights (Mbytes)': memory_weights\n",
    "          }\n",
    "df = pd.DataFrame(results, columns= ['Test', 'Duration (s)','FLOPS', \n",
    "                                     'Memory Usage (Gbytes)', 'Memory for Weights (Mbytes)'])\n",
    "df.to_csv('results/simple.csv', index = False)\n",
    "\n",
    "##\n",
    "# Test saving results:\n",
    "#\n",
    "if (not np.any(df)):\n",
    "    raise SystemError('Error when executing this cell block.')"
   ]
  },
  {
   "cell_type": "code",
   "execution_count": null,
   "id": "303f64dc",
   "metadata": {
    "deletable": false,
    "editable": false
   },
   "outputs": [],
   "source": [
    "##\n",
    "# (Optional): Automated debugging:\n",
    "#\n",
    "print('1. Total Execution Time for Dense MM:')\n",
    "if (duration_dense):\n",
    "    print('Build:passing\\n')\n",
    "    \n",
    "print('2. Total Execution Time for Sparse MM:')    \n",
    "if (duration_sparse):\n",
    "    print('Build:passing\\n')\n",
    "\n",
    "print('3. Total Execution Time for Conv2D:')    \n",
    "if (duration_conv):\n",
    "    print('Build:passing\\n')\n",
    "    \n",
    "print('4. The number of FLOPS in the Conv2D model:')        \n",
    "if (flops.total_float_ops):\n",
    "    print('Build:passing\\n')\n",
    "\n",
    "print('5. Memory usage of the model:')    \n",
    "if (memory_usage):\n",
    "    print('Build:passing\\n')\n",
    "\n",
    "print('6. Memory required to store the model weights:')\n",
    "if (memory_weights):\n",
    "    print('Build:passing\\n')\n",
    "\n",
    "print('7. Save the results:')\n",
    "if (np.any(df)):\n",
    "    print('Build:passing\\n')"
   ]
  },
  {
   "cell_type": "code",
   "execution_count": null,
   "id": "2e4efa73",
   "metadata": {},
   "outputs": [],
   "source": []
  }
 ],
 "metadata": {
  "celltoolbar": "Edit Metadata",
  "kernelspec": {
   "display_name": "Python [conda env:tensorflow] *",
   "language": "python",
   "name": "conda-env-tensorflow-py"
  },
  "language_info": {
   "codemirror_mode": {
    "name": "ipython",
    "version": 3
   },
   "file_extension": ".py",
   "mimetype": "text/x-python",
   "name": "python",
   "nbconvert_exporter": "python",
   "pygments_lexer": "ipython3",
   "version": "3.7.10"
  }
 },
 "nbformat": 4,
 "nbformat_minor": 5
}
