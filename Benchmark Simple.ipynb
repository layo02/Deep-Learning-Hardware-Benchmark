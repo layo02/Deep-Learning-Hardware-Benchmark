{
 "cells": [
  {
   "cell_type": "markdown",
   "id": "f30ede4c",
   "metadata": {
    "deletable": false,
    "editable": false,
    "scrolled": false
   },
   "source": [
    "# Table of Contents\n",
    "[I. Benchmark with General Matrix to Matrix Multiplication (GEMM) Operations](#Test01)\n",
    "\n",
    "[II. Benchmark with Convolution](#Test02)\n",
    "\n",
    "[III.Benchmark with Recurrent Neural Network](#Test04) "
   ]
  },
  {
   "cell_type": "code",
   "execution_count": null,
   "id": "90d38dec",
   "metadata": {
    "deletable": false,
    "editable": false,
    "scrolled": false
   },
   "outputs": [],
   "source": [
    "##\n",
    "# Import important libraries:\n",
    "#\n",
    "import numpy as np\n",
    "import tensorflow\n",
    "import pandas as pd\n",
    "from tensorflow.keras.utils import to_categorical\n",
    "from tensorflow.keras import mixed_precision\n",
    "from utils import gemm, convolve, process_mnist, rnn\n",
    "import time"
   ]
  },
  {
   "cell_type": "code",
   "execution_count": null,
   "id": "26471d73",
   "metadata": {
    "deletable": false,
    "editable": false
   },
   "outputs": [],
   "source": [
    "##\n",
    "# Recheck to see if GPU will be available:\n",
    "#\n",
    "device_name = tensorflow.test.gpu_device_name()\n",
    "if not device_name:\n",
    "  raise SystemError('GPU device not found')\n",
    "print('Found GPU at: {}'.format(device_name))"
   ]
  },
  {
   "cell_type": "markdown",
   "id": "4aa4dbd0",
   "metadata": {
    "deletable": false,
    "editable": false,
    "scrolled": false
   },
   "source": [
    "# I. Benchmark with General Matrix to Matrix Multiplication (GEMM) operations <a name = 'Test01'></a>"
   ]
  },
  {
   "cell_type": "code",
   "execution_count": null,
   "id": "8c065203",
   "metadata": {
    "deletable": false,
    "editable": false
   },
   "outputs": [],
   "source": [
    "##\n",
    "# Evaluate the total excecution time for Dense Matrix Multiplication:\n",
    "#\n",
    "start = time.time()\n",
    "gemm.dense_matrix_multiplication(3072,128,1024)\n",
    "gemm.dense_matrix_multiplication(5124,9124,2560)\n",
    "gemm.dense_matrix_multiplication(2560,64,2560)\n",
    "gemm.dense_matrix_multiplication(7860,64,2560)\n",
    "gemm.dense_matrix_multiplication(1760,128,1760)\n",
    "end = time.time()\n",
    "duration_dense = end - start\n",
    "print(f\"Duration: {round(duration_dense,2)} s\")"
   ]
  },
  {
   "cell_type": "code",
   "execution_count": null,
   "id": "dff35e6a",
   "metadata": {
    "deletable": false,
    "editable": false
   },
   "outputs": [],
   "source": [
    "##\n",
    "# Evaluate the total excecution time for Sparse Matrix Multiplication:\n",
    "#\n",
    "start = time.time()\n",
    "gemm.sparse_matrix_multiplication(10752,1,3584,0.9)\n",
    "gemm.sparse_matrix_multiplication(7680,1500,2560,0.95)\n",
    "gemm.sparse_matrix_multiplication(7680,2,2560,0.95)\n",
    "gemm.sparse_matrix_multiplication(7680,1,2560,0.95)\n",
    "end = time.time()\n",
    "duration_sparse = end - start\n",
    "print(f\"Duration: {round(duration_sparse,2)} s\")"
   ]
  },
  {
   "cell_type": "markdown",
   "id": "d4e5eff1",
   "metadata": {
    "deletable": false,
    "editable": false,
    "scrolled": false
   },
   "source": [
    "# II. Benchmark with Convolution operations <a name = 'Test02'></a>"
   ]
  },
  {
   "cell_type": "code",
   "execution_count": null,
   "id": "04452cc1",
   "metadata": {
    "deletable": false,
    "editable": false
   },
   "outputs": [],
   "source": [
    "##\n",
    "# Load the Zalando MNIST dataset:\n",
    "#\n",
    "X_train, y_train = process_mnist.load_mnist('data/fashion', kind = 'train')\n",
    "X_test, y_test = process_mnist.load_mnist('data/fashion', kind = 't10k')\n",
    "\n",
    "\n",
    "##\n",
    "# Convert the input data into RGB image type and resize the resolution to 32x32:\n",
    "#\n",
    "X_train = process_mnist.resize_mnist(X_train, 32, 28)\n",
    "X_train = np.stack((X_train,) * 3, axis = -1)\n",
    "X_test = process_mnist.resize_mnist(X_test, 32, 28)\n",
    "X_test = np.stack((X_test,) * 3, axis = -1)\n",
    "\n",
    "##\n",
    "# One-hot encoding the output labels:\n",
    "#\n",
    "y_train = to_categorical(y_train, num_classes = 10)\n",
    "y_test = to_categorical(y_test, num_classes = 10)"
   ]
  },
  {
   "cell_type": "code",
   "execution_count": null,
   "id": "347bf666",
   "metadata": {
    "deletable": false,
    "editable": false
   },
   "outputs": [],
   "source": [
    "##\n",
    "# Sanity check for input and output dimensions:\n",
    "#\n",
    "assert X_train.shape == (60000,32,32,3), \"X_train should have a dimension of (60000,32,32,3)!\"\n",
    "assert X_test.shape == (10000,32,32,3), \"X_test should have a dimension of (10000,32,32,3)!\"\n",
    "assert y_train.shape == (60000,10), \"y_train should have a dimension of (60000,10)\"\n",
    "assert y_test.shape == (10000,10), \"y_test should have a dimension of (10000,10)\""
   ]
  },
  {
   "cell_type": "code",
   "execution_count": null,
   "id": "7119be34",
   "metadata": {
    "deletable": false,
    "editable": false
   },
   "outputs": [],
   "source": [
    "##\n",
    "# Set up the precision target:\n",
    "#\n",
    "policy = tensorflow.keras.mixed_precision.experimental.Policy('mixed_float16')\n",
    "tensorflow.keras.mixed_precision.experimental.set_policy(policy)"
   ]
  },
  {
   "cell_type": "code",
   "execution_count": null,
   "id": "90527be2",
   "metadata": {
    "deletable": false,
    "editable": false
   },
   "outputs": [],
   "source": [
    "##\n",
    "# Compute the number of flops:\n",
    "#\n",
    "session = tensorflow.compat.v1.Session()\n",
    "graph = tensorflow.compat.v1.get_default_graph()\n",
    "\n",
    "with graph.as_default():\n",
    "    with session.as_default():\n",
    "        convolve.convolve2D()\n",
    "        run_meta = tensorflow.compat.v1.RunMetadata()\n",
    "        opts = tensorflow.compat.v1.profiler.ProfileOptionBuilder.float_operation()\n",
    "        flops = tensorflow.compat.v1.profiler.profile(graph = graph,\n",
    "                                                      run_meta = run_meta, cmd ='op', options=opts)\n",
    "\n",
    "tensorflow.compat.v1.reset_default_graph()\n",
    "\n",
    "flops_conv = round(flops.total_float_ops, 0)\n",
    "print(f\"Number of flops: {flops_conv}\")"
   ]
  },
  {
   "cell_type": "code",
   "execution_count": null,
   "id": "d8c10f1e",
   "metadata": {
    "deletable": false,
    "editable": false
   },
   "outputs": [],
   "source": [
    "##\n",
    "# Evaluate the total excecution time for convolution network:\n",
    "#\n",
    "\n",
    "start = time.time()\n",
    "model = convolve.convolve2D()\n",
    "model.fit(X_train, y_train, epochs = 10, verbose = 1, batch_size = 64,\n",
    "                         shuffle = True, validation_data = (X_test, y_test))\n",
    "end = time.time()\n",
    "duration_conv = end - start\n",
    "print(f\"Duration: {round(duration_conv,2)} s\")"
   ]
  },
  {
   "cell_type": "markdown",
   "id": "eb41802f",
   "metadata": {
    "deletable": false,
    "editable": false,
    "scrolled": false
   },
   "source": [
    "# III. Benchmark with recurrent neural network <a name = 'Test03'></a>"
   ]
  },
  {
   "cell_type": "code",
   "execution_count": null,
   "id": "99e0dee1",
   "metadata": {
    "deletable": false,
    "editable": false
   },
   "outputs": [],
   "source": [
    "##\n",
    "# Compute the number of flops:\n",
    "#\n",
    "session = tensorflow.compat.v1.Session()\n",
    "graph = tensorflow.compat.v1.get_default_graph()\n",
    "\n",
    "with graph.as_default():\n",
    "    with session.as_default():\n",
    "        rnn.rnn()\n",
    "        run_meta = tensorflow.compat.v1.RunMetadata()\n",
    "        opts = tensorflow.compat.v1.profiler.ProfileOptionBuilder.float_operation()\n",
    "        flops = tensorflow.compat.v1.profiler.profile(graph = graph,\n",
    "                                                      run_meta = run_meta, cmd ='op', options=opts)\n",
    "\n",
    "tensorflow.compat.v1.reset_default_graph()\n",
    "\n",
    "flops_rnn = round(flops.total_float_ops, 0)\n",
    "print(f\"Number of flops: {flops_conv}\")"
   ]
  },
  {
   "cell_type": "code",
   "execution_count": null,
   "id": "8c13a42c",
   "metadata": {
    "deletable": false,
    "editable": false
   },
   "outputs": [],
   "source": [
    "##\n",
    "# Evaluate the total excecution time for recurrent neural network:\n",
    "#\n",
    "start = time.time()\n",
    "model = rnn.rnn()\n",
    "model.fit(X_train, y_train, epochs = 10, verbose = 1, batch_size = 64,\n",
    "                         shuffle = True, validation_data = (X_test, y_test))\n",
    "end = time.time()\n",
    "duration_rnn = end - time\n",
    "print(f\"Duration: {round(duration_rnn,0)} s\")"
   ]
  },
  {
   "cell_type": "code",
   "execution_count": null,
   "id": "34eaaf61",
   "metadata": {},
   "outputs": [],
   "source": []
  }
 ],
 "metadata": {
  "celltoolbar": "Edit Metadata",
  "kernelspec": {
   "display_name": "Python [conda env:tensorflow] *",
   "language": "python",
   "name": "conda-env-tensorflow-py"
  },
  "language_info": {
   "codemirror_mode": {
    "name": "ipython",
    "version": 3
   },
   "file_extension": ".py",
   "mimetype": "text/x-python",
   "name": "python",
   "nbconvert_exporter": "python",
   "pygments_lexer": "ipython3",
   "version": "3.7.10"
  }
 },
 "nbformat": 4,
 "nbformat_minor": 5
}
