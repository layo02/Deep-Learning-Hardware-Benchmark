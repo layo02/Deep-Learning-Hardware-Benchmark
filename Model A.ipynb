{
 "cells": [
  {
   "cell_type": "code",
   "execution_count": null,
   "id": "43a101ae",
   "metadata": {},
   "outputs": [],
   "source": [
    "import tensorflow\n",
    "import numpy as np\n",
    "import matplotlib.pyplot as plt\n",
    "import sklearn\n",
    "import pandas as pd\n",
    "import time\n",
    "###\n",
    "from tensorflow.keras.preprocessing.image import ImageDataGenerator\n",
    "from tensorflow.keras import backend\n",
    "from tensorflow.keras.applications import VGG19\n",
    "from tensorflow.keras import Sequential\n",
    "from tensorflow.keras.layers import Conv2D, GlobalAveragePooling2D, Dropout, Dense\n",
    "from tensorflow.keras import regularizers\n",
    "from tensorflow.keras import Model\n",
    "from tensorflow.keras.callbacks import ModelCheckpoint\n",
    "from tensorflow.keras.optimizers import Adam\n",
    "from tensorflow.keras.utils import to_categorical\n",
    "###\n",
    "from sklearn.datasets import fetch_openml\n",
    "from sklearn.model_selection import train_test_split\n",
    "###\n",
    "from utils import process_mnist"
   ]
  },
  {
   "cell_type": "markdown",
   "id": "bd3842f1",
   "metadata": {},
   "source": [
    "# I. Benchmark with MNIST dataset"
   ]
  },
  {
   "cell_type": "code",
   "execution_count": null,
   "id": "7f0a659a",
   "metadata": {},
   "outputs": [],
   "source": [
    "X, y = fetch_openml('mnist_784', version = 1, return_X_y = True, as_frame = False)\n",
    "X = process_mnist.resize_mnist(X, 32, 28)\n",
    "###\n",
    "X = np.stack((X,) * 3, axis = -1)\n",
    "y = to_categorical(y, num_classes = 10)"
   ]
  },
  {
   "cell_type": "code",
   "execution_count": null,
   "id": "1ec82d27",
   "metadata": {},
   "outputs": [],
   "source": [
    "assert X.shape == (70000, 32, 32, 3), \"X should have a dimension of (70000, 32, 32, 3)\"\n",
    "assert y.shape == (70000,10), \"y should have a dimension of (70000,10)\""
   ]
  },
  {
   "cell_type": "code",
   "execution_count": null,
   "id": "0509a0a6",
   "metadata": {},
   "outputs": [],
   "source": [
    "X_train, X_test, y_train, y_test = train_test_split(X, y, train_size = None, test_size = 10000)"
   ]
  },
  {
   "cell_type": "code",
   "execution_count": null,
   "id": "b4e15723",
   "metadata": {},
   "outputs": [],
   "source": [
    "backend.clear_session()\n",
    "try:\n",
    "    os.mkdir('classifiers')\n",
    "except:\n",
    "    pass\n",
    "full_name = 'Model A'\n",
    "###\n",
    "convolution_base = VGG19(weights = 'imagenet', include_top = False, \n",
    "                         input_shape = (32,32,3))\n",
    "convolution_base.trainable = False\n",
    "###\n",
    "model = Sequential()\n",
    "model.add(convolution_base)\n",
    "x = model.output\n",
    "###\n",
    "x = Conv2D(128, kernel_size=(3,3), activation = 'relu', padding = 'same')(x)\n",
    "x = Conv2D(128, kernel_size=(3,3), activation = 'relu', padding = 'same')(x)\n",
    "x = Conv2D(128, kernel_size=(3,3), activation = 'relu', padding = 'same')(x)\n",
    "x = Conv2D(128, kernel_size=(3,3), activation = 'relu', padding = 'same')(x)\n",
    "x = GlobalAveragePooling2D()(x)\n",
    "###\n",
    "x = Dense(4096, activation = 'relu', kernel_regularizer = regularizers.l1_l2(l1 = 1e-5, l2 = 1e-4),\n",
    "          bias_regularizer = regularizers.l2(1e-4),\n",
    "          activity_regularizer = regularizers.l2(1e-5))(x)\n",
    "x = Dropout(0.5)(x)\n",
    "x = Dense(2048, activation = 'relu', kernel_regularizer = regularizers.l1_l2(l1 = 1e-5, l2 = 1e-4),\n",
    "          bias_regularizer = regularizers.l2(1e-4),\n",
    "          activity_regularizer = regularizers.l2(1e-5))(x)\n",
    "x = Dropout(0.5)(x)\n",
    "x = Dense(128, activation = 'relu', kernel_regularizer = regularizers.l1_l2(l1 = 1e-5, l2 = 1e-4),\n",
    "          bias_regularizer = regularizers.l2(1e-4),\n",
    "          activity_regularizer = regularizers.l2(1e-5))(x)\n",
    "out = Dense(10, activation = 'softmax')(x)\n",
    "finalModel = Model(inputs = model.input, outputs = out)\n",
    "###\n",
    "finalModel.summary()\n",
    "###\n",
    "opt = Adam(learning_rate = 0.001, beta_1 = 0.9, beta_2 = 0.999, epsilon = 1e-07)\n",
    "finalModel.compile(loss = 'categorical_crossentropy', optimizer = opt, metrics = ['accuracy', 'Precision', 'Recall'])\n",
    "###\n",
    "#filepath = \"classifiers/%s-{epoch:02d}-{val_accuracy:.4f}-MNIST.hdf5\"%full_name\n",
    "checkpoint = ModelCheckpoint(filepath, monitor = 'val_accuracy', save_best_only = True, mode = 'max')\n",
    "callbacks_list = [checkpoint]"
   ]
  },
  {
   "cell_type": "markdown",
   "id": "2a54516d",
   "metadata": {},
   "source": [
    "start = time.time()\n",
    "history = finalModel.fit(X_train, y_train, epochs = 100, verbose = 1, callbacks = callback_list,\n",
    "                         shuffle = True, validation_data = (X_test, y_test))\n",
    "end = time.time()\n",
    "runtime_mnist = end - start\n",
    "###\n",
    "print(f'Total runtime: {round(runtime_mnist, 2)}')"
   ]
  },
  {
   "cell_type": "markdown",
   "id": "ba994887",
   "metadata": {},
   "source": [
    "plt.plot(history.history['accuracy'])\n",
    "plt.plot(history.history['val_accuracy'])\n",
    "plt.title(\"Model A's Accuracy\")\n",
    "plt.ylabel('Accuracy (%)')\n",
    "plt.xlabel('Epoch')\n",
    "plt.legend(['Train', 'Test'], loc = 'upper left')\n",
    "plt.show()\n",
    "###\n",
    "plt.plot(history.history['loss'])\n",
    "plt.plot(history.history['val_loss'])\n",
    "plt.title(\"Model A's Accuracy\")\n",
    "plt.ylabel('Loss')\n",
    "plt.xlabel('Epoch')\n",
    "plt.legend(['Train', 'Test'], loc = 'upper left')\n",
    "plt.grid(True)\n",
    "plt.show()"
   ]
  },
  {
   "cell_type": "markdown",
   "id": "2a3c1022",
   "metadata": {},
   "source": [
    "## II. Benckmark with Fashion-MNIST dataset:"
   ]
  },
  {
   "cell_type": "code",
   "execution_count": null,
   "id": "930e558c",
   "metadata": {},
   "outputs": [],
   "source": [
    "X_train, y_train = process_mnist.load_mnist('data/fashion', kind = 'train')\n",
    "X_test, y_test = process_mnist.load_mnist('data/fashion', kind = 't10k')\n",
    "###\n",
    "X_train = process_mnist.resize_mnist(X_train, 32, 28)\n",
    "X_train = np.stack((X_train,) * 3, axis = -1)\n",
    "X_test = process_mnist.resize_mnist(X_test, 32, 28)\n",
    "X_test = np.stack((X_test,) * 3, axis = -1)\n",
    "###\n",
    "y_train = to_categorical(y_train, num_classes = 10)\n",
    "y_test = to_categorical(y_test, num_classes = 10)"
   ]
  },
  {
   "cell_type": "code",
   "execution_count": null,
   "id": "a0026bb4",
   "metadata": {},
   "outputs": [],
   "source": [
    "assert X_train.shape == (60000,32,32,3), \"X_train should have a dimension of (60000,32,32,3)!\"\n",
    "assert X_test.shape == (10000,32,32,3), \"X_test should have a dimension of (10000,32,32,3)!\"\n",
    "assert y_train.shape == (60000,10) \"y_train should have a dimension of (60000,10)\"\n",
    "assert y_test.shape == (10000,10) \"y_test should have a dimension of (10000,10)\""
   ]
  },
  {
   "cell_type": "code",
   "execution_count": null,
   "id": "f1b5e15e",
   "metadata": {},
   "outputs": [],
   "source": [
    "start = time.time()\n",
    "history = finalModel.fit(X_train, y_train, epochs = 100, verbose = 1, callbacks = callback_list,\n",
    "                         shuffle = True, validation_data = (X_test, y_test))\n",
    "end = time.time()\n",
    "runtime_mnist = end - start\n",
    "###\n",
    "print(f'Total runtime: {round(runtime_mnist, 2)}')"
   ]
  },
  {
   "cell_type": "code",
   "execution_count": null,
   "id": "af35181c",
   "metadata": {},
   "outputs": [],
   "source": [
    "###\n",
    "#filepath = \"classifiers/%s-{epoch:02d}-{val_accuracy:.4f}-fashion.hdf5\"%full_name\n",
    "checkpoint = ModelCheckpoint(filepath, monitor = 'val_accuracy', save_best_only = True, mode = 'max')\n",
    "callbacks_list = [checkpoint]"
   ]
  },
  {
   "cell_type": "code",
   "execution_count": null,
   "id": "b3e891a0",
   "metadata": {},
   "outputs": [],
   "source": [
    "start = time.time()\n",
    "history = finalModel.fit(X_train, y_train, epochs = 100, verbose = 1,\n",
    "                         shuffle = True, validation_data = (X_test, y_test))\n",
    "end = time.time()\n",
    "runtime_fashion = end - start\n",
    "###\n",
    "print(f'Total runtime: {round(runtime_fashion, 2)}')"
   ]
  },
  {
   "cell_type": "code",
   "execution_count": null,
   "id": "5592ad40",
   "metadata": {},
   "outputs": [],
   "source": []
  }
 ],
 "metadata": {
  "kernelspec": {
   "display_name": "Python [conda env:tensorflow] *",
   "language": "python",
   "name": "conda-env-tensorflow-py"
  },
  "language_info": {
   "codemirror_mode": {
    "name": "ipython",
    "version": 3
   },
   "file_extension": ".py",
   "mimetype": "text/x-python",
   "name": "python",
   "nbconvert_exporter": "python",
   "pygments_lexer": "ipython3",
   "version": "3.7.10"
  }
 },
 "nbformat": 4,
 "nbformat_minor": 5
}
