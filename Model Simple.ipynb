{
 "cells": [
  {
   "cell_type": "markdown",
   "id": "f30ede4c",
   "metadata": {},
   "source": [
    "# Table of Contents\n",
    "[I.  Benchmark with General Matrix to Matrix Multiplication (GEMM) Operations](#Test01)\n",
    "\n",
    "[II. Benchmark with Convolution ](#Test02)"
   ]
  },
  {
   "cell_type": "code",
   "execution_count": 1,
   "id": "90d38dec",
   "metadata": {
    "scrolled": false
   },
   "outputs": [],
   "source": [
    "import numpy as np\n",
    "import tensorflow\n",
    "import pandas as pd\n",
    "from tensorflow.keras.utils import to_categorical\n",
    "from tensorflow.keras import mixed_precision\n",
    "from utils import gemm, simple_models, process_mnist\n",
    "import time"
   ]
  },
  {
   "cell_type": "markdown",
   "id": "4aa4dbd0",
   "metadata": {},
   "source": [
    "# I. Benchmark with General Matrix to Matrix Multiplication (GEMM) operations <a name = 'Test01'></a>"
   ]
  },
  {
   "cell_type": "code",
   "execution_count": 2,
   "id": "8c065203",
   "metadata": {},
   "outputs": [
    {
     "name": "stdout",
     "output_type": "stream",
     "text": [
      "Duration: 3.26 s\n"
     ]
    }
   ],
   "source": [
    "##\n",
    "# Evaluate the total excecution time for Dense Matrix Multiplication:\n",
    "#\n",
    "start = time.time()\n",
    "gemm.dense_matrix_multiplication(3072,128,1024)\n",
    "gemm.dense_matrix_multiplication(5124,9124,2560)\n",
    "gemm.dense_matrix_multiplication(2560,64,2560)\n",
    "gemm.dense_matrix_multiplication(7860,64,2560)\n",
    "gemm.dense_matrix_multiplication(1760,128,1760)\n",
    "end = time.time()\n",
    "duration_dense = end - start\n",
    "print(f\"Duration: {round(duration_dense,2)} s\")"
   ]
  },
  {
   "cell_type": "code",
   "execution_count": 3,
   "id": "dff35e6a",
   "metadata": {},
   "outputs": [
    {
     "name": "stdout",
     "output_type": "stream",
     "text": [
      "Duration: 22.34 s\n"
     ]
    }
   ],
   "source": [
    "##\n",
    "# Evaluate the total excecution time for Sparse Matrix Multiplication:\n",
    "#\n",
    "start = time.time()\n",
    "gemm.sparse_matrix_multiplication(10752,1,3584,0.9)\n",
    "gemm.sparse_matrix_multiplication(7680,1500,2560,0.95)\n",
    "gemm.sparse_matrix_multiplication(7680,2,2560,0.95)\n",
    "gemm.sparse_matrix_multiplication(7680,1,2560,0.95)\n",
    "end = time.time()\n",
    "duration_sparse = end - start\n",
    "print(f\"Duration: {round(duration_sparse,2)} s\")"
   ]
  },
  {
   "cell_type": "markdown",
   "id": "d4e5eff1",
   "metadata": {},
   "source": [
    "# II. Benchmark with Convolution operations <a name = 'Test02'></a>"
   ]
  },
  {
   "cell_type": "code",
   "execution_count": 4,
   "id": "04452cc1",
   "metadata": {},
   "outputs": [],
   "source": [
    "##\n",
    "# Load the Zalando MNIST dataset:\n",
    "#\n",
    "X_train, y_train = process_mnist.load_mnist('data/fashion', kind = 'train')\n",
    "X_test, y_test = process_mnist.load_mnist('data/fashion', kind = 't10k')\n",
    "\n",
    "\n",
    "##\n",
    "# Convert the input data into RGB image type and resize the resolution to 32x32:\n",
    "#\n",
    "X_train = process_mnist.resize_mnist(X_train, 32, 28)\n",
    "X_train = np.stack((X_train,) * 3, axis = -1)\n",
    "X_test = process_mnist.resize_mnist(X_test, 32, 28)\n",
    "X_test = np.stack((X_test,) * 3, axis = -1)\n",
    "\n",
    "##\n",
    "# One-hot encoding the output labels:\n",
    "#\n",
    "y_train = to_categorical(y_train, num_classes = 10)\n",
    "y_test = to_categorical(y_test, num_classes = 10)"
   ]
  },
  {
   "cell_type": "code",
   "execution_count": 5,
   "id": "347bf666",
   "metadata": {},
   "outputs": [],
   "source": [
    "##\n",
    "# Sanity check for input and output dimensions:\n",
    "#\n",
    "assert X_train.shape == (60000,32,32,3), \"X_train should have a dimension of (60000,32,32,3)!\"\n",
    "assert X_test.shape == (10000,32,32,3), \"X_test should have a dimension of (10000,32,32,3)!\"\n",
    "assert y_train.shape == (60000,10), \"y_train should have a dimension of (60000,10)\"\n",
    "assert y_test.shape == (10000,10), \"y_test should have a dimension of (10000,10)\""
   ]
  },
  {
   "cell_type": "code",
   "execution_count": 6,
   "id": "7119be34",
   "metadata": {},
   "outputs": [],
   "source": [
    "##\n",
    "# Set up the precision target:\n",
    "#\n",
    "policy = tensorflow.keras.mixed_precision.experimental.Policy('mixed_float16')\n",
    "tensorflow.keras.mixed_precision.experimental.set_policy(policy)"
   ]
  },
  {
   "cell_type": "code",
   "execution_count": 7,
   "id": "90527be2",
   "metadata": {},
   "outputs": [
    {
     "name": "stdout",
     "output_type": "stream",
     "text": [
      "Number of flops: 0\n"
     ]
    }
   ],
   "source": [
    "##\n",
    "# Compute the number of flops:\n",
    "#\n",
    "from tensorflow.keras.layers import Conv2D, Dense, AveragePooling2D, Flatten\n",
    "from tensorflow.keras import Sequential, Model\n",
    "from tensorflow.keras.optimizers import Adam\n",
    "\n",
    "session = tensorflow.compat.v1.Session()\n",
    "graph = tensorflow.compat.v1.get_default_graph()\n",
    "\n",
    "with graph.as_default():\n",
    "    with session.as_default():\n",
    "        simple_models.convolve2D()\n",
    "        run_meta = tensorflow.compat.v1.RunMetadata()\n",
    "        opts = tensorflow.compat.v1.profiler.ProfileOptionBuilder.float_operation()\n",
    "        flops = tensorflow.compat.v1.profiler.profile(graph = graph,\n",
    "                                                      run_meta = run_meta, cmd ='op', options=opts)\n",
    "\n",
    "tensorflow.compat.v1.reset_default_graph()\n",
    "\n",
    "flops_conv = round(flops.total_float_ops, 0)\n",
    "print(f\"Number of flops: {flops_conv}\")"
   ]
  },
  {
   "cell_type": "code",
   "execution_count": null,
   "id": "d8c10f1e",
   "metadata": {},
   "outputs": [],
   "source": [
    "##\n",
    "# Evaluate the total excecution time for convolution network:\n",
    "#\n",
    "\n",
    "start = time.time()\n",
    "model = simple_models.convolve2D()\n",
    "model.fit(X_train, y_train, epochs = 10, verbose = 1, batch_size = 64,\n",
    "                         shuffle = True, validation_data = (X_test, y_test))\n",
    "end = time.time()\n",
    "duration_conv = end - start\n",
    "print(f\"Duration: {round(duration_conv,2)} s\")"
   ]
  },
  {
   "cell_type": "code",
   "execution_count": null,
   "id": "df28c576",
   "metadata": {},
   "outputs": [],
   "source": [
    "##\n",
    "# Saving the results to Excel file:\n",
    "#\n",
    "results = {'Test': ['Dense Matrix Multiplication', 'Sparse Matrix Multiplication', 'Convolution'],\n",
    "          'Duration': [duration_dense, duration_sparse, duration_conv],\n",
    "          'FLOPS': [flops_dense, flops_sparse, flops_conv]}\n",
    "data_frame = pd.DataFrame(results, columns = ['Test', 'Duration', 'FLOPS'])\n",
    "data_frame.to_excel('results/simple.xlsx', index = False, header = True)"
   ]
  },
  {
   "cell_type": "code",
   "execution_count": null,
   "id": "34eaaf61",
   "metadata": {},
   "outputs": [],
   "source": []
  }
 ],
 "metadata": {
  "kernelspec": {
   "display_name": "Python [conda env:tensorflow] *",
   "language": "python",
   "name": "conda-env-tensorflow-py"
  },
  "language_info": {
   "codemirror_mode": {
    "name": "ipython",
    "version": 3
   },
   "file_extension": ".py",
   "mimetype": "text/x-python",
   "name": "python",
   "nbconvert_exporter": "python",
   "pygments_lexer": "ipython3",
   "version": "3.7.10"
  }
 },
 "nbformat": 4,
 "nbformat_minor": 5
}
