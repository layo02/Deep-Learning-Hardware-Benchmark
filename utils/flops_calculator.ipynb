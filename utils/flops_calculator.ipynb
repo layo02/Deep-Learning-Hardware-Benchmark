{
 "cells": [
  {
   "cell_type": "code",
   "execution_count": null,
   "id": "1f93b642",
   "metadata": {},
   "outputs": [],
   "source": [
    "import tensorflow\n",
    "from tensorflow.keras import backend\n",
    "\n",
    "\n",
    "def get_flops(model):\n",
    "    session = tensorflow.compat.v1.Session()\n",
    "    graph = tensorflow.compat.v1.get_default_graph()\n",
    "\n",
    "    with graph.as_default():\n",
    "        with session.as_default():\n",
    "            model = finalModel\n",
    "            \n",
    "            run_meta = tensorflow.compat.v1.RunMetadata()\n",
    "            opts = tensorflow.compat.v1.profiler.ProfileOptionBuilder.float_operation()\n",
    "\n",
    "            ##\n",
    "            # Use the Keras session graph in the call to the profiler:\n",
    "            #\n",
    "            flops = tensorflow.compat.v1.profiler.profile(graph = graph,\n",
    "                                                  run_meta = run_meta, cmd='op', options=opts)\n",
    "\n",
    "    tensorflow.compat.v1.reset_default_graph()\n",
    "\n",
    "    return flops.total_float_ops"
   ]
  }
 ],
 "metadata": {
  "kernelspec": {
   "display_name": "Python [conda env:tensorflow] *",
   "language": "python",
   "name": "conda-env-tensorflow-py"
  },
  "language_info": {
   "codemirror_mode": {
    "name": "ipython",
    "version": 3
   },
   "file_extension": ".py",
   "mimetype": "text/x-python",
   "name": "python",
   "nbconvert_exporter": "python",
   "pygments_lexer": "ipython3",
   "version": "3.7.10"
  }
 },
 "nbformat": 4,
 "nbformat_minor": 5
}
