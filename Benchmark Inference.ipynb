{
 "cells": [
  {
   "cell_type": "code",
   "execution_count": null,
   "id": "6b66db16",
   "metadata": {
    "deletable": false,
    "editable": false
   },
   "outputs": [],
   "source": [
    "import numpy as np\n",
    "import pandas as pd\n",
    "import time\n",
    "import tensorflow\n",
    "from tensorflow.keras.models import load_model\n",
    "from tensorflow.keras.utils import to_categorical\n",
    "from utils import process_mnist"
   ]
  },
  {
   "cell_type": "markdown",
   "id": "589204c0",
   "metadata": {
    "deletable": false,
    "editable": false
   },
   "source": [
    "# I. Inference for Zalando MNIST Dataset using Model A"
   ]
  },
  {
   "cell_type": "code",
   "execution_count": null,
   "id": "f0e545f9",
   "metadata": {
    "deletable": false,
    "editable": false
   },
   "outputs": [],
   "source": [
    "##\n",
    "# Load test dataset:\n",
    "#\n",
    "X_test, y_test = process_mnist.load_mnist('data/fashion', kind = 't10k')\n",
    "X_test = process_mnist.resize_mnist(X_test, 28, 28, 32, 32)\n",
    "X_test = np.stack((X_test,) * 3, axis = -1)\n",
    "y_test = to_categorical(y_test, num_classes = 10)"
   ]
  },
  {
   "cell_type": "code",
   "execution_count": null,
   "id": "2cc8608e",
   "metadata": {
    "deletable": false,
    "editable": false
   },
   "outputs": [],
   "source": [
    "##\n",
    "# Load the models and compute the total execution time for inference:\n",
    "#\n",
    "start = time.time()\n",
    "model = load_model('classifiers/Model A-benchmarked.hdf5')\n",
    "score = model.evaluate(X_test, y_test, verbose = 0)\n",
    "end = time.time()\n",
    "duration_A = end - start\n",
    "\n",
    "##\n",
    "# Test for Model A:\n",
    "#\n",
    "if (not model) or (not duration_A):\n",
    "    raise SystemError('Error when executing this block!')"
   ]
  },
  {
   "cell_type": "markdown",
   "id": "4926af96",
   "metadata": {
    "deletable": false,
    "editable": false
   },
   "source": [
    "# II. Inference for Zalando MNIST Dataset using Model B"
   ]
  },
  {
   "cell_type": "code",
   "execution_count": null,
   "id": "c9111d2c",
   "metadata": {
    "deletable": false,
    "editable": false
   },
   "outputs": [],
   "source": [
    "##\n",
    "# Load the concatenated model:\n",
    "#\n",
    "start = time.time()\n",
    "model = load_model('classifiers/Model B-benchmarked.hdf5')\n",
    "score = model.evaluate(X_test, y_test, verbose = 0)\n",
    "end = time.time()\n",
    "duration_B = end - start\n",
    "tensorflow.keras.backend.clear_session()\n",
    "\n",
    "##\n",
    "# Test for Model B:\n",
    "#\n",
    "if (not model) or (not duration_B):\n",
    "    raise SystemError('Error when executing this block!')"
   ]
  },
  {
   "cell_type": "code",
   "execution_count": null,
   "id": "aeec60f1",
   "metadata": {
    "deletable": false,
    "editable": false
   },
   "outputs": [],
   "source": [
    "##\n",
    "# Save the results to a .csv file:\n",
    "#\n",
    "results = { 'Model': ['A', 'B'],\n",
    "           'Duration (s)': [round(duration_A,2), round(duration_B,2)]\n",
    "          }\n",
    "df = pd.DataFrame(results, columns = ['Model', 'Duration (s)'])\n",
    "df.to_csv('results/inference.csv', index = False)\n",
    "\n",
    "##\n",
    "# Test for saving results:\n",
    "#\n",
    "if (not np.any(df)):\n",
    "    raise SystemError('Error when executing this block!')"
   ]
  },
  {
   "cell_type": "code",
   "execution_count": null,
   "id": "ba1fe404",
   "metadata": {
    "deletable": false,
    "editable": false
   },
   "outputs": [],
   "source": [
    "##\n",
    "# (Optional): Automated debugging:\n",
    "#\n",
    "print('1. Total Inference Time using Model A:')\n",
    "if (duration_A):\n",
    "    print('Build:passing\\n')\n",
    "    \n",
    "print('2. Total Inference Time using Model B:')    \n",
    "if (duration_B):\n",
    "    print('Build:passing\\n')"
   ]
  },
  {
   "cell_type": "code",
   "execution_count": null,
   "id": "c239a4d6",
   "metadata": {},
   "outputs": [],
   "source": []
  }
 ],
 "metadata": {
  "celltoolbar": "Edit Metadata",
  "kernelspec": {
   "display_name": "Python [conda env:tensorflow] *",
   "language": "python",
   "name": "conda-env-tensorflow-py"
  },
  "language_info": {
   "codemirror_mode": {
    "name": "ipython",
    "version": 3
   },
   "file_extension": ".py",
   "mimetype": "text/x-python",
   "name": "python",
   "nbconvert_exporter": "python",
   "pygments_lexer": "ipython3",
   "version": "3.7.10"
  }
 },
 "nbformat": 4,
 "nbformat_minor": 5
}
